{
 "cells": [
  {
   "cell_type": "markdown",
   "metadata": {},
   "source": [
    "## Packages"
   ]
  },
  {
   "cell_type": "code",
   "execution_count": 1,
   "metadata": {},
   "outputs": [],
   "source": [
    "import pandas as pd\n",
    "import numpy as np\n",
    "import seaborn as sns\n",
    "import matplotlib\n",
    "import matplotlib.pyplot as plt\n",
    "import matplotlib.ticker as ticker\n",
    "import matplotlib.patches as mpatches"
   ]
  },
  {
   "cell_type": "markdown",
   "metadata": {},
   "source": [
    "## Barplot config"
   ]
  },
  {
   "cell_type": "code",
   "execution_count": 2,
   "metadata": {},
   "outputs": [],
   "source": [
    "sns.set(color_codes=True)\n",
    "\n",
    "def show_values_on_bars_v(axs):\n",
    "    x1,x2,y1,y2 = plt.axis()\n",
    "    plt.axis((x1,x2,y1 ,y2))\n",
    "    def _show_on_single_plot(ax):        \n",
    "        for p in ax.patches:\n",
    "            _x = p.get_x() - 0.01 + p.get_width() / 2.\n",
    "            _y = p.get_y() + p.get_height() * 1.02\n",
    "            value = '{:.3f}%'.format(p.get_height()*100)\n",
    "            ax.text(_x, _y+0.3, value, ha=\"center\") \n",
    "\n",
    "    if isinstance(axs, np.ndarray):\n",
    "        for idx, ax in np.ndenumerate(axs):\n",
    "            _show_on_single_plot(ax)\n",
    "    else:\n",
    "        _show_on_single_plot(axs)\n",
    "        \n",
    "def show_values_on_bars_h(axs):\n",
    "    x1,x2,y1,y2 = plt.axis()\n",
    "    plt.axis((x1,x2,y1 ,y2))\n",
    "    def _show_on_single_plot(ax):        \n",
    "        for p in ax.patches:\n",
    "            _x = p.get_x() + p.get_width() #+ 0.4\n",
    "            _y = p.get_y() + p.get_height()\n",
    "            value = '{:.3f}%'.format(p.get_width()*100)\n",
    "            ax.text(_x, _y, value, ha=\"left\")\n",
    "\n",
    "    if isinstance(axs, np.ndarray):\n",
    "        for idx, ax in np.ndenumerate(axs):\n",
    "            _show_on_single_plot(ax)\n",
    "    else:\n",
    "        _show_on_single_plot(axs)\n",
    "     "
   ]
  },
  {
   "cell_type": "markdown",
   "metadata": {},
   "source": [
    "# Stats"
   ]
  },
  {
   "cell_type": "code",
   "execution_count": 3,
   "metadata": {
    "scrolled": true
   },
   "outputs": [
    {
     "data": {
      "text/html": [
       "<div>\n",
       "<style scoped>\n",
       "    .dataframe tbody tr th:only-of-type {\n",
       "        vertical-align: middle;\n",
       "    }\n",
       "\n",
       "    .dataframe tbody tr th {\n",
       "        vertical-align: top;\n",
       "    }\n",
       "\n",
       "    .dataframe thead th {\n",
       "        text-align: right;\n",
       "    }\n",
       "</style>\n",
       "<table border=\"1\" class=\"dataframe\">\n",
       "  <thead>\n",
       "    <tr style=\"text-align: right;\">\n",
       "      <th></th>\n",
       "      <th>items_list</th>\n",
       "      <th>stats</th>\n",
       "    </tr>\n",
       "  </thead>\n",
       "  <tbody>\n",
       "    <tr>\n",
       "      <th>0</th>\n",
       "      <td>total_unique_words</td>\n",
       "      <td>610714</td>\n",
       "    </tr>\n",
       "    <tr>\n",
       "      <th>1</th>\n",
       "      <td>total_unique_words_lh</td>\n",
       "      <td>7962</td>\n",
       "    </tr>\n",
       "    <tr>\n",
       "      <th>2</th>\n",
       "      <td>word_list_set_lh_clitic</td>\n",
       "      <td>6</td>\n",
       "    </tr>\n",
       "    <tr>\n",
       "      <th>3</th>\n",
       "      <td>total_unique_words_nh</td>\n",
       "      <td>10815</td>\n",
       "    </tr>\n",
       "    <tr>\n",
       "      <th>4</th>\n",
       "      <td>diminutives</td>\n",
       "      <td>4220</td>\n",
       "    </tr>\n",
       "    <tr>\n",
       "      <th>5</th>\n",
       "      <td>total_unique_words_p</td>\n",
       "      <td>118478</td>\n",
       "    </tr>\n",
       "    <tr>\n",
       "      <th>6</th>\n",
       "      <td>total_unique_words_m</td>\n",
       "      <td>131934</td>\n",
       "    </tr>\n",
       "    <tr>\n",
       "      <th>7</th>\n",
       "      <td>word_list_set_m_clitic</td>\n",
       "      <td>5</td>\n",
       "    </tr>\n",
       "  </tbody>\n",
       "</table>\n",
       "</div>"
      ],
      "text/plain": [
       "                items_list   stats\n",
       "0       total_unique_words  610714\n",
       "1    total_unique_words_lh    7962\n",
       "2  word_list_set_lh_clitic       6\n",
       "3    total_unique_words_nh   10815\n",
       "4              diminutives    4220\n",
       "5     total_unique_words_p  118478\n",
       "6     total_unique_words_m  131934\n",
       "7   word_list_set_m_clitic       5"
      ]
     },
     "execution_count": 3,
     "metadata": {},
     "output_type": "execute_result"
    }
   ],
   "source": [
    "stats_unique_words_df = pd.read_csv(\"stats_unique_words_df.csv\", index_col = 0)\n",
    "stats_unique_words_df"
   ]
  },
  {
   "cell_type": "code",
   "execution_count": 4,
   "metadata": {
    "scrolled": true
   },
   "outputs": [
    {
     "data": {
      "text/plain": [
       "['total_unique_words',\n",
       " 'total_unique_words_lh',\n",
       " 'word_list_set_lh_clitic',\n",
       " 'total_unique_words_nh',\n",
       " 'diminutives',\n",
       " 'total_unique_words_p',\n",
       " 'total_unique_words_m',\n",
       " 'word_list_set_m_clitic']"
      ]
     },
     "execution_count": 4,
     "metadata": {},
     "output_type": "execute_result"
    }
   ],
   "source": [
    "list(stats_unique_words_df.items_list)"
   ]
  },
  {
   "cell_type": "code",
   "execution_count": 5,
   "metadata": {},
   "outputs": [
    {
     "data": {
      "text/html": [
       "<div>\n",
       "<style scoped>\n",
       "    .dataframe tbody tr th:only-of-type {\n",
       "        vertical-align: middle;\n",
       "    }\n",
       "\n",
       "    .dataframe tbody tr th {\n",
       "        vertical-align: top;\n",
       "    }\n",
       "\n",
       "    .dataframe thead th {\n",
       "        text-align: right;\n",
       "    }\n",
       "</style>\n",
       "<table border=\"1\" class=\"dataframe\">\n",
       "  <thead>\n",
       "    <tr style=\"text-align: right;\">\n",
       "      <th></th>\n",
       "      <th>items_list</th>\n",
       "      <th>stats</th>\n",
       "    </tr>\n",
       "  </thead>\n",
       "  <tbody>\n",
       "    <tr>\n",
       "      <th>0</th>\n",
       "      <td>total_unique_words</td>\n",
       "      <td>610714</td>\n",
       "    </tr>\n",
       "    <tr>\n",
       "      <th>1</th>\n",
       "      <td>word_lh</td>\n",
       "      <td>7962</td>\n",
       "    </tr>\n",
       "    <tr>\n",
       "      <th>2</th>\n",
       "      <td>word_lh_clitic</td>\n",
       "      <td>6</td>\n",
       "    </tr>\n",
       "    <tr>\n",
       "      <th>3</th>\n",
       "      <td>word_nh</td>\n",
       "      <td>10815</td>\n",
       "    </tr>\n",
       "    <tr>\n",
       "      <th>4</th>\n",
       "      <td>word_nh_diminutive</td>\n",
       "      <td>4220</td>\n",
       "    </tr>\n",
       "    <tr>\n",
       "      <th>5</th>\n",
       "      <td>word_p</td>\n",
       "      <td>118478</td>\n",
       "    </tr>\n",
       "    <tr>\n",
       "      <th>6</th>\n",
       "      <td>word_m</td>\n",
       "      <td>131934</td>\n",
       "    </tr>\n",
       "    <tr>\n",
       "      <th>7</th>\n",
       "      <td>word_list_set_m_clitic</td>\n",
       "      <td>5</td>\n",
       "    </tr>\n",
       "  </tbody>\n",
       "</table>\n",
       "</div>"
      ],
      "text/plain": [
       "               items_list   stats\n",
       "0      total_unique_words  610714\n",
       "1                 word_lh    7962\n",
       "2          word_lh_clitic       6\n",
       "3                 word_nh   10815\n",
       "4      word_nh_diminutive    4220\n",
       "5                  word_p  118478\n",
       "6                  word_m  131934\n",
       "7  word_list_set_m_clitic       5"
      ]
     },
     "execution_count": 5,
     "metadata": {},
     "output_type": "execute_result"
    }
   ],
   "source": [
    "di = {\"total_unique_words_p\": \"word_p\", \"total_unique_words_m\": \"word_m\", \"total_unique_words_lh\": \"word_lh\",\n",
    "     \"word_list_set_lh_clitic\": \"word_lh_clitic\", \"total_unique_words_nh\": \"word_nh\", \"diminutives\": \"word_nh_diminutive\"}\n",
    "stats_unique_words_df[\"items_list\"].replace(di, inplace=True)\n",
    "stats_unique_words_df"
   ]
  },
  {
   "cell_type": "code",
   "execution_count": 6,
   "metadata": {},
   "outputs": [
    {
     "data": {
      "text/html": [
       "<div>\n",
       "<style scoped>\n",
       "    .dataframe tbody tr th:only-of-type {\n",
       "        vertical-align: middle;\n",
       "    }\n",
       "\n",
       "    .dataframe tbody tr th {\n",
       "        vertical-align: top;\n",
       "    }\n",
       "\n",
       "    .dataframe thead th {\n",
       "        text-align: right;\n",
       "    }\n",
       "</style>\n",
       "<table border=\"1\" class=\"dataframe\">\n",
       "  <thead>\n",
       "    <tr style=\"text-align: right;\">\n",
       "      <th></th>\n",
       "      <th>items_list</th>\n",
       "      <th>stats</th>\n",
       "    </tr>\n",
       "  </thead>\n",
       "  <tbody>\n",
       "    <tr>\n",
       "      <th>0</th>\n",
       "      <td>total_unique_words</td>\n",
       "      <td>610714</td>\n",
       "    </tr>\n",
       "    <tr>\n",
       "      <th>1</th>\n",
       "      <td>word_p</td>\n",
       "      <td>118478</td>\n",
       "    </tr>\n",
       "    <tr>\n",
       "      <th>2</th>\n",
       "      <td>word_m</td>\n",
       "      <td>131934</td>\n",
       "    </tr>\n",
       "    <tr>\n",
       "      <th>3</th>\n",
       "      <td>word_lh</td>\n",
       "      <td>7962</td>\n",
       "    </tr>\n",
       "    <tr>\n",
       "      <th>4</th>\n",
       "      <td>word_lh_clitic</td>\n",
       "      <td>6</td>\n",
       "    </tr>\n",
       "    <tr>\n",
       "      <th>5</th>\n",
       "      <td>word_nh</td>\n",
       "      <td>10815</td>\n",
       "    </tr>\n",
       "    <tr>\n",
       "      <th>6</th>\n",
       "      <td>word_nh_diminutive</td>\n",
       "      <td>4220</td>\n",
       "    </tr>\n",
       "  </tbody>\n",
       "</table>\n",
       "</div>"
      ],
      "text/plain": [
       "           items_list   stats\n",
       "0  total_unique_words  610714\n",
       "1              word_p  118478\n",
       "2              word_m  131934\n",
       "3             word_lh    7962\n",
       "4      word_lh_clitic       6\n",
       "5             word_nh   10815\n",
       "6  word_nh_diminutive    4220"
      ]
     },
     "execution_count": 6,
     "metadata": {},
     "output_type": "execute_result"
    }
   ],
   "source": [
    "stats_unique_words_df = stats_unique_words_df.reindex([0, 5, 6, 1, 2, 3, 4]).reset_index(drop=True)\n",
    "stats_unique_words_df"
   ]
  },
  {
   "cell_type": "code",
   "execution_count": 7,
   "metadata": {
    "scrolled": true
   },
   "outputs": [
    {
     "data": {
      "text/html": [
       "<div>\n",
       "<style scoped>\n",
       "    .dataframe tbody tr th:only-of-type {\n",
       "        vertical-align: middle;\n",
       "    }\n",
       "\n",
       "    .dataframe tbody tr th {\n",
       "        vertical-align: top;\n",
       "    }\n",
       "\n",
       "    .dataframe thead th {\n",
       "        text-align: right;\n",
       "    }\n",
       "</style>\n",
       "<table border=\"1\" class=\"dataframe\">\n",
       "  <thead>\n",
       "    <tr style=\"text-align: right;\">\n",
       "      <th></th>\n",
       "      <th>items_list</th>\n",
       "      <th>stats</th>\n",
       "    </tr>\n",
       "  </thead>\n",
       "  <tbody>\n",
       "    <tr>\n",
       "      <th>1</th>\n",
       "      <td>word_p</td>\n",
       "      <td>0.19400</td>\n",
       "    </tr>\n",
       "    <tr>\n",
       "      <th>2</th>\n",
       "      <td>word_m</td>\n",
       "      <td>0.21603</td>\n",
       "    </tr>\n",
       "    <tr>\n",
       "      <th>3</th>\n",
       "      <td>word_lh</td>\n",
       "      <td>0.01304</td>\n",
       "    </tr>\n",
       "    <tr>\n",
       "      <th>4</th>\n",
       "      <td>word_lh_clitic</td>\n",
       "      <td>0.00001</td>\n",
       "    </tr>\n",
       "    <tr>\n",
       "      <th>5</th>\n",
       "      <td>word_nh</td>\n",
       "      <td>0.01771</td>\n",
       "    </tr>\n",
       "    <tr>\n",
       "      <th>6</th>\n",
       "      <td>word_nh_diminutive</td>\n",
       "      <td>0.00691</td>\n",
       "    </tr>\n",
       "  </tbody>\n",
       "</table>\n",
       "</div>"
      ],
      "text/plain": [
       "           items_list    stats\n",
       "1              word_p  0.19400\n",
       "2              word_m  0.21603\n",
       "3             word_lh  0.01304\n",
       "4      word_lh_clitic  0.00001\n",
       "5             word_nh  0.01771\n",
       "6  word_nh_diminutive  0.00691"
      ]
     },
     "execution_count": 7,
     "metadata": {},
     "output_type": "execute_result"
    }
   ],
   "source": [
    "max_total_words_length = stats_unique_words_df[\"stats\"].max()\n",
    "\n",
    "stats_unique_words_df[\"stats\"] = stats_unique_words_df[\"stats\"]/max_total_words_length\n",
    "stats_unique_words_df[\"stats\"] = stats_unique_words_df[\"stats\"].round(5)\n",
    "stats_unique_words_df.drop(index=stats_unique_words_df.index[0], axis=0, inplace=True)\n",
    "stats_unique_words_df"
   ]
  },
  {
   "cell_type": "code",
   "execution_count": 8,
   "metadata": {},
   "outputs": [
    {
     "data": {
      "text/plain": [
       "[Text(0.5, 0, 'Count'), Text(0, 0.5, '')]"
      ]
     },
     "execution_count": 8,
     "metadata": {},
     "output_type": "execute_result"
    },
    {
     "data": {
      "image/png": "[encoded data removed]",
      "text/plain": [
       "<Figure size 252x126 with 1 Axes>"
      ]
     },
     "metadata": {},
     "output_type": "display_data"
    }
   ],
   "source": [
    "all_colors = {\n",
    "    #'word_all': '#dddddd',\n",
    "    'word_p': '#aaaaaa',\n",
    "    'word_m': '#aaaaaa',\n",
    "    'word_lh': '#5975a4',\n",
    "    'word_lh_clitic': '#5975a4',\n",
    "    'word_nh': '#cc8963',\n",
    "    'word_nh_diminutive': '#cc8963',\n",
    "}\n",
    "\n",
    "all_colors = list(all_colors.values())\n",
    "sns.set_palette(sns.color_palette(all_colors))\n",
    "\n",
    "fig, ax = plt.subplots()\n",
    "ax = sns.barplot(x=\"stats\", y=\"items_list\" , data=stats_unique_words_df)\n",
    "ax.xaxis.set_major_formatter(ticker.PercentFormatter(1))\n",
    "ax.set(xlim=(0, 0.3))\n",
    "show_values_on_bars_h(ax)\n",
    "fig.set_size_inches(3.5, 1.75)\n",
    "ax.set(xlabel=\"Count\", ylabel=\"\")"
   ]
  },
  {
   "cell_type": "code",
   "execution_count": 9,
   "metadata": {
    "scrolled": true
   },
   "outputs": [
    {
     "data": {
      "text/html": [
       "<div>\n",
       "<style scoped>\n",
       "    .dataframe tbody tr th:only-of-type {\n",
       "        vertical-align: middle;\n",
       "    }\n",
       "\n",
       "    .dataframe tbody tr th {\n",
       "        vertical-align: top;\n",
       "    }\n",
       "\n",
       "    .dataframe thead th {\n",
       "        text-align: right;\n",
       "    }\n",
       "</style>\n",
       "<table border=\"1\" class=\"dataframe\">\n",
       "  <thead>\n",
       "    <tr style=\"text-align: right;\">\n",
       "      <th></th>\n",
       "      <th>items_list</th>\n",
       "      <th>stats</th>\n",
       "    </tr>\n",
       "  </thead>\n",
       "  <tbody>\n",
       "    <tr>\n",
       "      <th>0</th>\n",
       "      <td>total_words</td>\n",
       "      <td>171654564</td>\n",
       "    </tr>\n",
       "    <tr>\n",
       "      <th>1</th>\n",
       "      <td>total_words_lh</td>\n",
       "      <td>1620609</td>\n",
       "    </tr>\n",
       "    <tr>\n",
       "      <th>2</th>\n",
       "      <td>total_words_lh_clitic</td>\n",
       "      <td>183532</td>\n",
       "    </tr>\n",
       "    <tr>\n",
       "      <th>3</th>\n",
       "      <td>total_words_nh</td>\n",
       "      <td>1631245</td>\n",
       "    </tr>\n",
       "    <tr>\n",
       "      <th>4</th>\n",
       "      <td>total_words_diminutive</td>\n",
       "      <td>94647</td>\n",
       "    </tr>\n",
       "    <tr>\n",
       "      <th>5</th>\n",
       "      <td>total_words_p</td>\n",
       "      <td>24042739</td>\n",
       "    </tr>\n",
       "    <tr>\n",
       "      <th>6</th>\n",
       "      <td>total_words_m</td>\n",
       "      <td>21021010</td>\n",
       "    </tr>\n",
       "    <tr>\n",
       "      <th>7</th>\n",
       "      <td>total_words_m_clitic</td>\n",
       "      <td>715472</td>\n",
       "    </tr>\n",
       "  </tbody>\n",
       "</table>\n",
       "</div>"
      ],
      "text/plain": [
       "               items_list      stats\n",
       "0             total_words  171654564\n",
       "1          total_words_lh    1620609\n",
       "2   total_words_lh_clitic     183532\n",
       "3          total_words_nh    1631245\n",
       "4  total_words_diminutive      94647\n",
       "5           total_words_p   24042739\n",
       "6           total_words_m   21021010\n",
       "7    total_words_m_clitic     715472"
      ]
     },
     "execution_count": 9,
     "metadata": {},
     "output_type": "execute_result"
    }
   ],
   "source": [
    "stats_df = pd.read_csv(\"stats_df.csv\", index_col = 0)\n",
    "stats_df"
   ]
  },
  {
   "cell_type": "code",
   "execution_count": 10,
   "metadata": {
    "scrolled": true
   },
   "outputs": [
    {
     "data": {
      "text/plain": [
       "['total_words',\n",
       " 'total_words_lh',\n",
       " 'total_words_lh_clitic',\n",
       " 'total_words_nh',\n",
       " 'total_words_diminutive',\n",
       " 'total_words_p',\n",
       " 'total_words_m',\n",
       " 'total_words_m_clitic']"
      ]
     },
     "execution_count": 10,
     "metadata": {},
     "output_type": "execute_result"
    }
   ],
   "source": [
    "list(stats_df.items_list)"
   ]
  },
  {
   "cell_type": "code",
   "execution_count": 11,
   "metadata": {},
   "outputs": [
    {
     "data": {
      "text/html": [
       "<div>\n",
       "<style scoped>\n",
       "    .dataframe tbody tr th:only-of-type {\n",
       "        vertical-align: middle;\n",
       "    }\n",
       "\n",
       "    .dataframe tbody tr th {\n",
       "        vertical-align: top;\n",
       "    }\n",
       "\n",
       "    .dataframe thead th {\n",
       "        text-align: right;\n",
       "    }\n",
       "</style>\n",
       "<table border=\"1\" class=\"dataframe\">\n",
       "  <thead>\n",
       "    <tr style=\"text-align: right;\">\n",
       "      <th></th>\n",
       "      <th>items_list</th>\n",
       "      <th>stats</th>\n",
       "    </tr>\n",
       "  </thead>\n",
       "  <tbody>\n",
       "    <tr>\n",
       "      <th>0</th>\n",
       "      <td>total_words</td>\n",
       "      <td>171654564</td>\n",
       "    </tr>\n",
       "    <tr>\n",
       "      <th>1</th>\n",
       "      <td>word_lh</td>\n",
       "      <td>1620609</td>\n",
       "    </tr>\n",
       "    <tr>\n",
       "      <th>2</th>\n",
       "      <td>word_lh_clitic</td>\n",
       "      <td>183532</td>\n",
       "    </tr>\n",
       "    <tr>\n",
       "      <th>3</th>\n",
       "      <td>word_nh</td>\n",
       "      <td>1631245</td>\n",
       "    </tr>\n",
       "    <tr>\n",
       "      <th>4</th>\n",
       "      <td>word_nh_diminutive</td>\n",
       "      <td>94647</td>\n",
       "    </tr>\n",
       "    <tr>\n",
       "      <th>5</th>\n",
       "      <td>word_p</td>\n",
       "      <td>24042739</td>\n",
       "    </tr>\n",
       "    <tr>\n",
       "      <th>6</th>\n",
       "      <td>word_m</td>\n",
       "      <td>21021010</td>\n",
       "    </tr>\n",
       "    <tr>\n",
       "      <th>7</th>\n",
       "      <td>total_words_m_clitic</td>\n",
       "      <td>715472</td>\n",
       "    </tr>\n",
       "  </tbody>\n",
       "</table>\n",
       "</div>"
      ],
      "text/plain": [
       "             items_list      stats\n",
       "0           total_words  171654564\n",
       "1               word_lh    1620609\n",
       "2        word_lh_clitic     183532\n",
       "3               word_nh    1631245\n",
       "4    word_nh_diminutive      94647\n",
       "5                word_p   24042739\n",
       "6                word_m   21021010\n",
       "7  total_words_m_clitic     715472"
      ]
     },
     "execution_count": 11,
     "metadata": {},
     "output_type": "execute_result"
    }
   ],
   "source": [
    "di = {\"total_words_p\": \"word_p\", \"total_words_m\": \"word_m\", \"total_words_lh\": \"word_lh\",\n",
    "     \"total_words_lh_clitic\": \"word_lh_clitic\", \"total_words_nh\": \"word_nh\", \"total_words_diminutive\": \"word_nh_diminutive\"}\n",
    "stats_df[\"items_list\"].replace(di, inplace=True)\n",
    "stats_df"
   ]
  },
  {
   "cell_type": "code",
   "execution_count": 12,
   "metadata": {},
   "outputs": [
    {
     "data": {
      "text/html": [
       "<div>\n",
       "<style scoped>\n",
       "    .dataframe tbody tr th:only-of-type {\n",
       "        vertical-align: middle;\n",
       "    }\n",
       "\n",
       "    .dataframe tbody tr th {\n",
       "        vertical-align: top;\n",
       "    }\n",
       "\n",
       "    .dataframe thead th {\n",
       "        text-align: right;\n",
       "    }\n",
       "</style>\n",
       "<table border=\"1\" class=\"dataframe\">\n",
       "  <thead>\n",
       "    <tr style=\"text-align: right;\">\n",
       "      <th></th>\n",
       "      <th>items_list</th>\n",
       "      <th>stats</th>\n",
       "    </tr>\n",
       "  </thead>\n",
       "  <tbody>\n",
       "    <tr>\n",
       "      <th>0</th>\n",
       "      <td>total_words</td>\n",
       "      <td>171654564</td>\n",
       "    </tr>\n",
       "    <tr>\n",
       "      <th>1</th>\n",
       "      <td>word_p</td>\n",
       "      <td>24042739</td>\n",
       "    </tr>\n",
       "    <tr>\n",
       "      <th>2</th>\n",
       "      <td>word_m</td>\n",
       "      <td>21021010</td>\n",
       "    </tr>\n",
       "    <tr>\n",
       "      <th>3</th>\n",
       "      <td>word_lh</td>\n",
       "      <td>1620609</td>\n",
       "    </tr>\n",
       "    <tr>\n",
       "      <th>4</th>\n",
       "      <td>word_lh_clitic</td>\n",
       "      <td>183532</td>\n",
       "    </tr>\n",
       "    <tr>\n",
       "      <th>5</th>\n",
       "      <td>word_nh</td>\n",
       "      <td>1631245</td>\n",
       "    </tr>\n",
       "    <tr>\n",
       "      <th>6</th>\n",
       "      <td>word_nh_diminutive</td>\n",
       "      <td>94647</td>\n",
       "    </tr>\n",
       "  </tbody>\n",
       "</table>\n",
       "</div>"
      ],
      "text/plain": [
       "           items_list      stats\n",
       "0         total_words  171654564\n",
       "1              word_p   24042739\n",
       "2              word_m   21021010\n",
       "3             word_lh    1620609\n",
       "4      word_lh_clitic     183532\n",
       "5             word_nh    1631245\n",
       "6  word_nh_diminutive      94647"
      ]
     },
     "execution_count": 12,
     "metadata": {},
     "output_type": "execute_result"
    }
   ],
   "source": [
    "stats_df = stats_df.reindex([0, 5, 6, 1, 2, 3, 4]).reset_index(drop=True)\n",
    "stats_df"
   ]
  },
  {
   "cell_type": "code",
   "execution_count": 13,
   "metadata": {},
   "outputs": [
    {
     "data": {
      "text/html": [
       "<div>\n",
       "<style scoped>\n",
       "    .dataframe tbody tr th:only-of-type {\n",
       "        vertical-align: middle;\n",
       "    }\n",
       "\n",
       "    .dataframe tbody tr th {\n",
       "        vertical-align: top;\n",
       "    }\n",
       "\n",
       "    .dataframe thead th {\n",
       "        text-align: right;\n",
       "    }\n",
       "</style>\n",
       "<table border=\"1\" class=\"dataframe\">\n",
       "  <thead>\n",
       "    <tr style=\"text-align: right;\">\n",
       "      <th></th>\n",
       "      <th>items_list</th>\n",
       "      <th>stats</th>\n",
       "    </tr>\n",
       "  </thead>\n",
       "  <tbody>\n",
       "    <tr>\n",
       "      <th>1</th>\n",
       "      <td>word_p</td>\n",
       "      <td>0.14006</td>\n",
       "    </tr>\n",
       "    <tr>\n",
       "      <th>2</th>\n",
       "      <td>word_m</td>\n",
       "      <td>0.12246</td>\n",
       "    </tr>\n",
       "    <tr>\n",
       "      <th>3</th>\n",
       "      <td>word_lh</td>\n",
       "      <td>0.00944</td>\n",
       "    </tr>\n",
       "    <tr>\n",
       "      <th>4</th>\n",
       "      <td>word_lh_clitic</td>\n",
       "      <td>0.00107</td>\n",
       "    </tr>\n",
       "    <tr>\n",
       "      <th>5</th>\n",
       "      <td>word_nh</td>\n",
       "      <td>0.00950</td>\n",
       "    </tr>\n",
       "    <tr>\n",
       "      <th>6</th>\n",
       "      <td>word_nh_diminutive</td>\n",
       "      <td>0.00055</td>\n",
       "    </tr>\n",
       "  </tbody>\n",
       "</table>\n",
       "</div>"
      ],
      "text/plain": [
       "           items_list    stats\n",
       "1              word_p  0.14006\n",
       "2              word_m  0.12246\n",
       "3             word_lh  0.00944\n",
       "4      word_lh_clitic  0.00107\n",
       "5             word_nh  0.00950\n",
       "6  word_nh_diminutive  0.00055"
      ]
     },
     "execution_count": 13,
     "metadata": {},
     "output_type": "execute_result"
    }
   ],
   "source": [
    "max_total_words_length = stats_df[\"stats\"].max()\n",
    "\n",
    "stats_df[\"stats\"] = stats_df[\"stats\"]/max_total_words_length\n",
    "stats_df[\"stats\"] = stats_df[\"stats\"].round(5)\n",
    "stats_df.drop(index=stats_df.index[0], axis=0, inplace=True)\n",
    "stats_df"
   ]
  },
  {
   "cell_type": "code",
   "execution_count": 14,
   "metadata": {},
   "outputs": [
    {
     "data": {
      "text/plain": [
       "[Text(0.5, 0, 'Count'), Text(0, 0.5, '')]"
      ]
     },
     "execution_count": 14,
     "metadata": {},
     "output_type": "execute_result"
    },
    {
     "data": {
      "image/png": "[encoded data removed]",
      "text/plain": [
       "<Figure size 252x126 with 1 Axes>"
      ]
     },
     "metadata": {},
     "output_type": "display_data"
    }
   ],
   "source": [
    "all_colors = {\n",
    "    #'word_all': '#dddddd',\n",
    "    'word_p': '#aaaaaa',\n",
    "    'word_m': '#aaaaaa',\n",
    "    'word_lh': '#5975a4',\n",
    "    'word_lh_clitic': '#5975a4',\n",
    "    'word_nh': '#cc8963',\n",
    "    'word_nh_diminutive': '#cc8963',\n",
    "}\n",
    "\n",
    "all_colors = list(all_colors.values())\n",
    "sns.set_palette(sns.color_palette(all_colors))\n",
    "\n",
    "fig, ax = plt.subplots()\n",
    "ax = sns.barplot(x=\"stats\", y=\"items_list\" , data=stats_df)\n",
    "ax.xaxis.set_major_formatter(ticker.PercentFormatter(1))\n",
    "ax.set(xlim=(0, 0.3))\n",
    "show_values_on_bars_h(ax)\n",
    "fig.set_size_inches(3.5, 1.75)\n",
    "ax.set(xlabel=\"Count\", ylabel=\"\")"
   ]
  }
 ],
 "metadata": {
  "kernelspec": {
   "display_name": "Python 3",
   "language": "python",
   "name": "python3"
  },
  "language_info": {
   "codemirror_mode": {
    "name": "ipython",
    "version": 3
   },
   "file_extension": ".py",
   "mimetype": "text/x-python",
   "name": "python",
   "nbconvert_exporter": "python",
   "pygments_lexer": "ipython3",
   "version": "3.8.5"
  },
  "toc": {
   "base_numbering": 1,
   "nav_menu": {},
   "number_sections": true,
   "sideBar": true,
   "skip_h1_title": false,
   "title_cell": "Table of Contents",
   "title_sidebar": "Contents",
   "toc_cell": false,
   "toc_position": {},
   "toc_section_display": true,
   "toc_window_display": false
  }
 },
 "nbformat": 4,
 "nbformat_minor": 4
}
